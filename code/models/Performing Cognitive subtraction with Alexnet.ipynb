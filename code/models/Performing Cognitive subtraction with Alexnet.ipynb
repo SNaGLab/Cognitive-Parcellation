{
 "cells": [
  {
   "cell_type": "markdown",
   "metadata": {},
   "source": [
    "<span style=\"font-size:30px;\">RQ: How are animate and inanimate categories differentiated in a pre-trained artificial neural network?</span>\n",
    "\n",
    "A central goal of social neuroscience is identify neural processes that support  social interaction. Numerous analytical methods have been used to isolate regions of the brain sensitive to social and nonsocial images. However, confirming the validity of these findings requires studying the effects of lesions on the identified brain regions, a goal not possible in human participants and not well matched to animal behavior. Using recently established similarities between artificial neural networks (ANNs) and human brain representations, we sought to test the validity of several analytical methods in identifying groups of neurons central to a social function by studying the effects of specific lesions in an ANN. Beginning with Alexnet, a multilayer ANN trained to recognize objects, we clustered neurons based on their activation to images of animate and inanimate objects. We then lesioned each identified cluster to find those clusters whose lesions result in category-specific deficits in performance. Our results show that partition based methods can reliably retrieve clusters of artificial neurons that with sensitivity index up to 0.8 for both animate and inanimate objects. This implies that a clustering approach can be dependable for identifying neurons central to category-specific object identification. Further, we found that neurons from the significant cluster can be traced back to the early layers of the artificial neural network. This finding is surprising given representation similarity between ANNs and the brain has been demonstrated for later layers. This research provides grounds for improved understanding of cognitive processes central to social tasks.\n"
   ]
  },
  {
   "cell_type": "markdown",
   "metadata": {},
   "source": [
    "Data\n",
    "\n",
    "Imagenet is a large database of images spanning across multiple categories. In this study, we used Alexnet, a convolutional neural network that has been trained on Imagenet for visual object recognition. Alexnet takes an image as an input and process it in order to associate the image with one of the 1000 categories of images it was trained on. We are interested in studying the different in activate patterns of artifical neurons of Alexnet for social verus non-social images. Our motivation stems from the concept of cognitive subtraction from functional neuroimaging which is used to compare activity between two tasks of interest that vary in one cognitve process.\n",
    "\n",
    "The first ste"
   ]
  },
  {
   "cell_type": "markdown",
   "metadata": {},
   "source": [
    "Animate Categotries\n",
    "\n",
    "Siberian Husky  ('n02110185')\n",
    "<img src=\"../../data/animate/ILSVRC2012_val_00000993.JPEG\" style=\"height:150px; width:150px\">\n",
    "Grey whale, gray whale, devilfish, Eschrichtius gibbosus, Eschrichtius robustus ('n02066245')\n",
    "<img src=\"../../data/animate/ILSVRC2012_val_00025891.JPEG\" style=\"height:150px; width:150px\">\n",
    "Junco, snowbird ('n01534433')\n",
    "<img src=\"../../data/animate/ILSVRC2012_val_00000247.JPEG\" style=\"height:150px; width:150px\">\n",
    "Snail ('n01944390')\n",
    "<img src=\"../../data/animate/ILSVRC2012_val_00012418.JPEG\" style=\"height:150px; width:150px\">\n",
    "InAnimate Categories\n",
    "\n",
    "Bookcase ('n02870880')\n",
    "<img src=\"../../data/inanimate/ILSVRC2012_val_00009820.JPEG\" style=\"height:150px; width:150px\">\n",
    "Electric fan, blower ('n03271574')\n",
    "<img src=\"../../data/inanimate/ILSVRC2012_val_00002875.JPEG\" style=\"height:150px; width:150px\">\n",
    "Toaster ('n04442312')\n",
    "<img src=\"../../data/inanimate/ILSVRC2012_val_00001572.JPEG\" style=\"height:150px; width:150px\">\n",
    "Fountain pen ('n03388183')\n",
    "<img src=\"../../data/inanimate/ILSVRC2012_val_00002830.JPEG\" style=\"height:150px; width:150px\">\n",
    "\n"
   ]
  },
  {
   "cell_type": "markdown",
   "metadata": {},
   "source": [
    "AlexNet Architecture\n",
    "<img src=\"../../data/misc/AlexNet-2012.png\">"
   ]
  },
  {
   "cell_type": "code",
   "execution_count": 17,
   "metadata": {},
   "outputs": [
    {
     "data": {
      "image/png": "[encoded data removed]",
      "text/plain": [
       "<Figure size 432x288 with 1 Axes>"
      ]
     },
     "metadata": {
      "needs_background": "light"
     },
     "output_type": "display_data"
    },
    {
     "data": {
      "image/png": "[encoded data removed]",
      "text/plain": [
       "<Figure size 432x288 with 1 Axes>"
      ]
     },
     "metadata": {
      "needs_background": "light"
     },
     "output_type": "display_data"
    }
   ],
   "source": [
    "#Histograms\n",
    "\n",
    "import cPickle as pickle\n",
    "import matplotlib\n",
    "%matplotlib inline\n",
    "import matplotlib.pyplot as plt\n",
    "\n",
    "with open('../../data/pkl/animate_train.pkl','rb') as f:\n",
    "    data = pickle.load(f)\n",
    "temp1 = data[0:290400] \n",
    "plt.figure(1)\n",
    "plt.hist(temp1,lw=1)\n",
    "plt.hist(temp1,lw=2)\n",
    "temp2 = data[290400:477024]\n",
    "plt.figure(2)\n",
    "plt.hist(temp1, alpha=0.5,label='Animate')\n",
    "plt.hist(temp2, alpha=0.5,label='InAnimate')\n",
    "plt.legend()\n",
    "temp3 = data[477024:541920]\n",
    "temp4 = data[541920:606816]\n",
    "temp5 = data[606816:650080]\n",
    "temp6 = data[650080:654176]\n",
    "temp7 = data[654176:658272]\n",
    "\n",
    "\n"
   ]
  },
  {
   "cell_type": "code",
   "execution_count": null,
   "metadata": {},
   "outputs": [],
   "source": []
  }
 ],
 "metadata": {
  "kernelspec": {
   "display_name": "Python 2",
   "language": "python",
   "name": "python2"
  },
  "language_info": {
   "codemirror_mode": {
    "name": "ipython",
    "version": 2
   },
   "file_extension": ".py",
   "mimetype": "text/x-python",
   "name": "python",
   "nbconvert_exporter": "python",
   "pygments_lexer": "ipython2",
   "version": "2.7.15"
  }
 },
 "nbformat": 4,
 "nbformat_minor": 2
}
