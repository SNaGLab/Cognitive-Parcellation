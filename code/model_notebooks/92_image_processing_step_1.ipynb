{
 "cells": [
  {
   "cell_type": "code",
   "execution_count": 1,
   "metadata": {},
   "outputs": [
    {
     "name": "stderr",
     "output_type": "stream",
     "text": [
      "Using Theano backend.\n"
     ]
    }
   ],
   "source": [
    "#To hide warnings export PYTHONWARNINGS=\"ignore\"\n",
    "#Imports{\n",
    "\n",
    "import os\n",
    "from os.path import dirname\n",
    "from os.path import join\n",
    "os.environ['KERAS_BACKEND'] = 'theano'\n",
    "os.environ['TF_CPP_MIN_LOG_LEVEL'] = '3' #Cha\n",
    "\n",
    "\n",
    "import sys\n",
    "import warnings\n",
    "if not sys.warnoptions:\n",
    "    warnings.simplefilter(\"ignore\")\n",
    "    \n",
    "import cPickle as pickle\n",
    "import numpy as np\n",
    "\n",
    "import matplotlib\n",
    "import matplotlib.pyplot as plt\n",
    "%matplotlib inline\n",
    "\n",
    "from scipy.misc import imread\n",
    "from scipy.misc import imresize\n",
    "from scipy.io import loadmat\n",
    "\n",
    "from sklearn.model_selection import train_test_split\n",
    "from sklearn.model_selection import KFold\n",
    "\n",
    "import keras\n",
    "from keras.models import Sequential\n",
    "from keras.layers import Dense, Activation, Dropout, Flatten, MaxPooling2D, Input, ZeroPadding2D,merge,Lambda\n",
    "from keras.layers.convolutional import Convolution2D\n",
    "from keras.models import Model\n",
    "from keras.utils.layer_utils import convert_all_kernels_in_model\n",
    "from keras.optimizers import SGD\n",
    "from keras import backend as K\n",
    "from keras.engine import Layer\n",
    "from keras.layers.core import Lambda\n",
    "from keras.utils.vis_utils import plot_model\n",
    "from keras.layers.core import  Lambda\n",
    "from keras.regularizers import l2\n",
    "#}"
   ]
  },
  {
   "cell_type": "code",
   "execution_count": 2,
   "metadata": {},
   "outputs": [],
   "source": [
    "#Code snippet needed to read activation values from each layer of the pre-trained artificial neural networks\n",
    "def get_activations(model, layer, X_batch):\n",
    "    #keras.backend.function(inputs, outputs, updates=None)\n",
    "    get_activations = K.function([model.layers[0].input, K.learning_phase()], [model.layers[layer].output,])\n",
    "    #The learning phase flag is a bool tensor (0 = test, 1 = train)\n",
    "    activations = get_activations([X_batch,0])\n",
    "    return activations"
   ]
  },
  {
   "cell_type": "code",
   "execution_count": 3,
   "metadata": {},
   "outputs": [],
   "source": [
    "#Function to pre-process the input image to ensure uniform size and color\n",
    "def preprocess_image_batch(image_paths, img_size=None, crop_size=None, color_mode='rgb', out=None):\n",
    "    \"\"\"\n",
    "    Consistent preprocessing of images batches\n",
    "    :param image_paths: iterable: images to process\n",
    "    :param crop_size: tuple: crop images if specified\n",
    "    :param img_size: tuple: resize images if specified\n",
    "    :param color_mode: Use rgb or change to bgr mode based on type of model you want to use\n",
    "    :param out: append output to this iterable if specified\n",
    "    \"\"\"\n",
    "    img_list = []\n",
    "\n",
    "    for im_path in image_paths:\n",
    "        img = imread(im_path, mode='RGB')\n",
    "        #print im_path\n",
    "        #print img.shape\n",
    "        if img_size:\n",
    "            img = imresize(img, img_size)\n",
    "\n",
    "        img = img.astype('float32')\n",
    "        # We normalize the colors (in RGB space) with the empirical means on the training set\n",
    "        img[:, :, 0] -= 123.68\n",
    "        img[:, :, 1] -= 116.779\n",
    "        img[:, :, 2] -= 103.939\n",
    "        # We permute the colors to get them in the BGR order\n",
    "        if color_mode == 'bgr':\n",
    "            img[:, :, [0, 1, 2]] = img[:, :, [2, 1, 0]]\n",
    "        img = img.transpose((2, 0, 1))\n",
    "\n",
    "        if crop_size:\n",
    "            img = img[:, (img_size[0] - crop_size[0]) // 2:(img_size[0] + crop_size[0]) // 2\n",
    "            , (img_size[1] - crop_size[1]) // 2:(img_size[1] + crop_size[1]) // 2]\n",
    "\n",
    "        img_list.append(img)\n",
    "\n",
    "    try:\n",
    "        img_batch = np.stack(img_list, axis=0)\n",
    "    except:\n",
    "        print im_path\n",
    "        raise ValueError('when img_size and crop_size are None, images'\n",
    "                ' in image_paths must have the same shapes.')\n",
    "\n",
    "    if out is not None and hasattr(out, 'append'):\n",
    "        out.append(img_batch)\n",
    "    else:\n",
    "        return img_batch"
   ]
  },
  {
   "cell_type": "code",
   "execution_count": 4,
   "metadata": {},
   "outputs": [],
   "source": [
    "#Helper function to normalization across channels\n",
    "K.set_image_dim_ordering('th')\n",
    "def crosschannelnormalization(alpha=1e-4, k=2, beta=0.75, n=5, **kwargs):\n",
    "    \"\"\"\n",
    "    This is the function used for cross channel normalization in the original\n",
    "    Alexnet\n",
    "    \"\"\"\n",
    "    def f(X):\n",
    "        if K.image_dim_ordering()=='tf':\n",
    "            b, r, c, ch = X.get_shape()\n",
    "        else:\n",
    "            b, ch, r, c = X.shape\n",
    "\n",
    "        half = n // 2\n",
    "        square = K.square(X)\n",
    "        scale = k\n",
    "        if K.image_dim_ordering() == 'th':\n",
    "            extra_channels = K.spatial_2d_padding(K.permute_dimensions(square, (0, 2, 3, 1)), ((0,0),(half,half)))\n",
    "            extra_channels = K.permute_dimensions(extra_channels, (0, 3, 1, 2))\n",
    "            for i in range(n):\n",
    "                scale += alpha * extra_channels[:, i:i+ch, :, :]\n",
    "        if K.image_dim_ordering() == 'tf':\n",
    "            extra_channels = K.spatial_2d_padding(K.permute_dimensions(square, (0, 3, 1, 2)), (half, 0))\n",
    "            extra_channels = K.permute_dimensions(extra_channels, (0, 2, 3, 1))\n",
    "            for i in range(n):\n",
    "                scale += alpha * extra_channels[:, :, :, i:i+int(ch)]\n",
    "        scale = scale ** beta\n",
    "        return X / scale\n",
    "\n",
    "\n",
    "    return Lambda(f, output_shape=lambda input_shape: input_shape, **kwargs)"
   ]
  },
  {
   "cell_type": "code",
   "execution_count": 5,
   "metadata": {},
   "outputs": [],
   "source": [
    "#Helper Function to split tensor\n",
    "def splittensor(axis=1, ratio_split=1, id_split=0, **kwargs):\n",
    "    def f(X):\n",
    "        div = K.shape(X)[axis] // ratio_split\n",
    "\n",
    "        if axis == 0:\n",
    "            output = X[id_split*div:(id_split+1)*div, :, :, :]\n",
    "        elif axis == 1:\n",
    "            output = X[:, id_split*div:(id_split+1)*div, :, :]\n",
    "        elif axis == 2:\n",
    "            output = X[:, :, id_split*div:(id_split+1)*div, :]\n",
    "        elif axis == 3:\n",
    "            output = X[:, :, :, id_split*div:(id_split+1)*div]\n",
    "        else:\n",
    "            raise ValueError(\"This axis is not possible\")\n",
    "        return output\n",
    "\n",
    "    def g(input_shape):\n",
    "        output_shape = list(input_shape)\n",
    "        output_shape[axis] = output_shape[axis] // ratio_split\n",
    "        return tuple(output_shape)\n",
    "\n",
    "\n",
    "    return Lambda(f, output_shape=lambda input_shape: g(input_shape), **kwargs)"
   ]
  },
  {
   "cell_type": "code",
   "execution_count": 6,
   "metadata": {},
   "outputs": [],
   "source": [
    "#Alexnet layer architecture class\n",
    "def AlexNet(img_shape=(3, 227, 227), n_classes=1000, l2_reg=0.,weights_path=None):\n",
    "\n",
    "    dim_ordering = K.image_dim_ordering()\n",
    "    print dim_ordering\n",
    "    if dim_ordering == 'th':\n",
    "        batch_index = 0\n",
    "        channel_index = 1\n",
    "        row_index = 2\n",
    "        col_index = 3\n",
    "    if dim_ordering == 'tf':\n",
    "        batch_index = 0\n",
    "        channel_index = 3\n",
    "        row_index = 1\n",
    "        col_index = 2\n",
    "\n",
    "    inputs = Input(img_shape)\n",
    "\n",
    "    conv_1 = Convolution2D(96, 11, 11, subsample=(4, 4), activation='relu',\n",
    "                           name='conv_1', W_regularizer=l2(l2_reg))(inputs)\n",
    "\n",
    "    conv_1_mask = np.ones(shape=((96, 55, 55)))\n",
    "    conv_1_mask  = K.variable(conv_1_mask)\n",
    "    conv_1_lambda = Lambda(lambda x: x * conv_1_mask)(conv_1)\n",
    "\n",
    "    conv_2 = MaxPooling2D((3, 3), strides=(2, 2))(conv_1_lambda)\n",
    "    conv_2 = crosschannelnormalization(name=\"convpool_1\")(conv_2)\n",
    "    conv_2 = ZeroPadding2D((2, 2))(conv_2)\n",
    "    conv_2 = merge([\n",
    "        Convolution2D(128, 5, 5, activation=\"relu\", name='conv_2_'+str(i+1),\n",
    "                      W_regularizer=l2(l2_reg))(\n",
    "            splittensor(axis=channel_index, ratio_split=2, id_split=i)(conv_2)\n",
    "        ) for i in range(2)], mode='concat', concat_axis=channel_index, name=\"conv_2\")\n",
    "\n",
    "    conv_2_mask = np.ones(shape=((256, 27, 27)))\n",
    "    conv_2_mask = K.variable(conv_2_mask)\n",
    "    conv_2_lambda = Lambda(lambda x: x * conv_2_mask)(conv_2)\n",
    "\n",
    "    conv_3 = MaxPooling2D((3, 3), strides=(2, 2))(conv_2_lambda)\n",
    "    conv_3 = crosschannelnormalization()(conv_3)\n",
    "    conv_3 = ZeroPadding2D((1, 1))(conv_3)\n",
    "    conv_3 = Convolution2D(384, 3, 3, activation='relu', name='conv_3',\n",
    "                           W_regularizer=l2(l2_reg))(conv_3)\n",
    "\n",
    "    conv_3_mask = np.ones(shape=((384, 13, 13)))\n",
    "    conv_3_mask = K.variable(conv_3_mask)\n",
    "    conv_3_lambda = Lambda(lambda x: x * conv_3_mask)(conv_3)\n",
    "\n",
    "    conv_4 = ZeroPadding2D((1, 1))(conv_3_lambda)\n",
    "    conv_4 = merge([\n",
    "        Convolution2D(192, 3, 3, activation=\"relu\", name='conv_4_'+str(i+1),\n",
    "                      W_regularizer=l2(l2_reg))(\n",
    "            splittensor(axis=channel_index, ratio_split=2, id_split=i)(conv_4)\n",
    "        ) for i in range(2)], mode='concat', concat_axis=channel_index, name=\"conv_4\")\n",
    "\n",
    "    conv_4_mask = np.ones(shape=((384, 13, 13)))\n",
    "    conv_4_mask = K.variable(conv_4_mask)\n",
    "    conv_4_lambda = Lambda(lambda x: x * conv_4_mask)(conv_4)\n",
    "\n",
    "    conv_5 = ZeroPadding2D((1, 1))(conv_4_lambda)\n",
    "    conv_5 = merge([\n",
    "        Convolution2D(128, 3, 3, activation=\"relu\", name='conv_5_'+str(i+1),\n",
    "                      W_regularizer=l2(l2_reg))(\n",
    "            splittensor(axis=channel_index, ratio_split=2, id_split=i)(conv_5)\n",
    "        ) for i in range(2)], mode='concat', concat_axis=channel_index, name=\"conv_5\")\n",
    "\n",
    "    conv_5_mask = np.ones(shape=((256, 13, 13)))\n",
    "    conv_5_mask = K.variable(conv_5_mask)\n",
    "    conv_5_lambda = Lambda(lambda x: x * conv_5_mask)(conv_5)\n",
    "\n",
    "    dense_1 = MaxPooling2D((3, 3), strides=(2, 2), name=\"convpool_5\")(conv_5_lambda)\n",
    "\n",
    "    dense_1 = Flatten(name=\"flatten\")(dense_1)\n",
    "    dense_1 = Dense(4096, activation='relu', name='dense_1',\n",
    "                    W_regularizer=l2(l2_reg))(dense_1)\n",
    "\n",
    "    dense_1_mask = np.ones(shape=((4096,)))\n",
    "    dense_1_mask = K.variable(dense_1_mask)\n",
    "    dense_1_lambda = Lambda(lambda x: x * dense_1_mask)(dense_1)\n",
    "\n",
    "    dense_2 = Dropout(0.5)(dense_1_lambda)\n",
    "    dense_2 = Dense(4096, activation='relu', name='dense_2',\n",
    "                    W_regularizer=l2(l2_reg))(dense_2)\n",
    "\n",
    "    dense_2_mask = np.ones(shape=((4096,)))\n",
    "    dense_2_mask = K.variable(dense_2_mask)\n",
    "    dense_2_lambda = Lambda(lambda x: x * dense_2_mask)(dense_2)\n",
    "\n",
    "    dense_3 = Dropout(0.5)(dense_2_lambda)\n",
    "    if n_classes == 1000:\n",
    "        dense_3 = Dense(n_classes, name='dense_3',\n",
    "                        W_regularizer=l2(l2_reg))(dense_3)\n",
    "        dense_3_mask = np.ones(shape=((1000,)))\n",
    "        dense_3_mask = K.variable(dense_3_mask)\n",
    "        dense_3_lambda = Lambda(lambda x: x * dense_3_mask)(dense_3)\n",
    "    else:\n",
    "        # We change the name so when loading the weights_file from a\n",
    "        # Imagenet pretrained model does not crash\n",
    "        dense_3 = Dense(n_classes, name='dense_3_new',\n",
    "                        W_regularizer=l2(l2_reg))(dense_3)\n",
    "        dense_3_mask = np.ones(shape=((1000,)))\n",
    "        dense_3_mask = K.variable(dense_3_mask)\n",
    "        dense_3_lambda = Lambda(lambda x: x * dense_3_mask)(dense_3)\n",
    "\n",
    "    prediction = Activation(\"softmax\", name=\"softmax\")(dense_3_lambda)\n",
    "\n",
    "    model = Model(input=inputs, output=prediction)\n",
    "    if weights_path:\n",
    "        model.load_weights(weights_path)\n",
    "\n",
    "    return model"
   ]
  },
  {
   "cell_type": "code",
   "execution_count": 7,
   "metadata": {},
   "outputs": [],
   "source": [
    "#Load the details of all the 1000 classes and the function to conver the synset id to words{\n",
    "meta_clsloc_file = '../../data/meta_clsloc.mat'\n",
    "synsets = loadmat(meta_clsloc_file)['synsets'][0]\n",
    "synsets_imagenet_sorted = sorted([(int(s[0]), str(s[1][0])) for s in synsets[:1000]],key=lambda v: v[1])\n",
    "corr = {}\n",
    "for j in range(1000):\n",
    "    corr[synsets_imagenet_sorted[j][0]] = j\n",
    "\n",
    "corr_inv = {}\n",
    "for j in range(1, 1001):\n",
    "    corr_inv[corr[j]] = j\n",
    "\n",
    "def id_to_words(id_):\n",
    "    return synsets[corr_inv[id_] - 1][2][0]\n",
    "\n",
    "def pprint_output(out, n_max_synsets=10):\n",
    "    wids = []\n",
    "    best_ids = out.argsort()[::-1][:n_max_synsets]\n",
    "    for u in best_ids:\n",
    "        wids.append(str(synsets[corr_inv[u] - 1][1][0]))\n",
    "        print('%.2f' % round(100 * out[u], 2) + ' : ' + id_to_words(u)+' '+ str(synsets[corr_inv[u] - 1][1][0]))\n",
    "    return wids\n"
   ]
  },
  {
   "cell_type": "code",
   "execution_count": 8,
   "metadata": {},
   "outputs": [
    {
     "name": "stdout",
     "output_type": "stream",
     "text": [
      "th\n"
     ]
    }
   ],
   "source": [
    "sgd = SGD(lr=0.1, decay=1e-6, momentum=0.9, nesterov=True)\n",
    "model = AlexNet(weights_path=\"../../data/weights/alexnet_weights.h5\")\n",
    "model.compile(optimizer=sgd, loss='mse')"
   ]
  },
  {
   "cell_type": "code",
   "execution_count": 155,
   "metadata": {},
   "outputs": [
    {
     "name": "stdout",
     "output_type": "stream",
     "text": [
      "dense_3 2 1 (92, 1000) (1000,) (1000,)\n",
      "(92, 1000)\n"
     ]
    }
   ],
   "source": [
    "# Prepare the image list and pre-process them{\n",
    "im_list = []\n",
    "\n",
    "url_path = '../../data/92_image/animate/'\n",
    "for i in os.listdir(url_path):\n",
    "    if not i.startswith('~') and not i.startswith('.'):\n",
    "        temp = i.split('.')[0]\n",
    "        im_list.append(url_path+i)\n",
    "\n",
    "url_path = '../../data/92_image/inanimate/'\n",
    "for i in os.listdir(url_path):\n",
    "    if not i.startswith('~') and not i.startswith('.'):\n",
    "        temp = i.split('.')[0]\n",
    "        im_list.append(url_path+i)\n",
    "        \n",
    "\n",
    "im = preprocess_image_batch(im_list,img_size=(256,256), crop_size=(227,227), color_mode=\"rgb\")\n",
    "#}\n",
    "\n",
    "#out = model.predict(im,batch_size=64)\n",
    "#print im_list, pprint_output(out[0])\n",
    "\n",
    "# Code snippet to get the activation values and saving information{\n",
    "flag  = 0\n",
    "i = 0\n",
    "result ={}\n",
    "for layer in model.layers:\n",
    "    weights = layer.get_weights()\n",
    "    if len(weights) > 0:\n",
    "        activations = get_activations(model,i,im)\n",
    "        if result.get(layer.name, None) is None:\n",
    "            result[layer.name] = activations[0]\n",
    "            if layer.name == 'conv_1b':\n",
    "                print layer.name,len(weights),len(activations), activations[0].shape, activations[0][0].ravel().shape, np.mean(activations[0], axis=0).shape\n",
    "                for j in range(activations[0].shape[0]):\n",
    "                    temp = activations[0][j].ravel()\n",
    "                    if flag == 0:\n",
    "                        data = temp\n",
    "                        flag = 1\n",
    "                    else:\n",
    "                        #print(j, data.shape)\n",
    "                        data = np.vstack((data,temp))\n",
    "            elif layer.name == 'conv_5_1b' or layer.name == 'conv_5_2b':\n",
    "                print layer.name,len(weights),len(activations), activations[0].shape, activations[0][0].ravel().shape, np.mean(activations[0], axis=0).shape\n",
    "                for j in range(activations[0].shape[0]):\n",
    "                    temp = activations[0][j].ravel()\n",
    "                    if layer.name == 'conv_5_2':\n",
    "                        #print data[j].shape, temp.shape\n",
    "                        temp2 = np.append(data[j],temp)\n",
    "                        if flag == 2:\n",
    "                            data1 = temp2\n",
    "                            flag = 1\n",
    "                        else:\n",
    "                            data1 = np.vstack((data1,temp2))\n",
    "                    elif flag == 0:\n",
    "                        data = temp\n",
    "                        flag = 1\n",
    "                    else:\n",
    "                        #print(j, data.shape)\n",
    "                        data = np.vstack((data,temp))\n",
    "                        flag = 2\n",
    "            elif layer.name =='dense_3':\n",
    "                temp = np.mean(activations[0], axis=0).ravel()\n",
    "                print layer.name,len(weights),len(activations), activations[0].shape, np.mean(activations[0], axis=0).shape, temp.shape\n",
    "                data = activations[0]\n",
    "    i += 1\n",
    "\n",
    "#}\n",
    "#data = data1\n",
    "print(data.shape)"
   ]
  },
  {
   "cell_type": "code",
   "execution_count": 156,
   "metadata": {},
   "outputs": [
    {
     "name": "stdout",
     "output_type": "stream",
     "text": [
      "(8464,)\n",
      "(92, 92)\n"
     ]
    }
   ],
   "source": [
    "from scipy.stats import percentileofscore\n",
    "import pandas as pd\n",
    "\n",
    "correlation_mat= 1 - np.corrcoef(data)\n",
    "data_shape = correlation_mat.shape\n",
    "arr_sorted =  sorted(correlation_mat.ravel())\n",
    "s = pd.Series(correlation_mat.ravel())\n",
    "percentiles = np.asarray(s.apply(lambda x: percentileofscore(arr_sorted, x)))\n",
    "print(percentiles.shape)\n",
    "data = np.reshape(percentiles, data_shape)\n",
    "print(data.shape)"
   ]
  },
  {
   "cell_type": "code",
   "execution_count": 157,
   "metadata": {},
   "outputs": [
    {
     "data": {
      "text/plain": [
       "<matplotlib.colorbar.Colorbar at 0x7f039f6caad0>"
      ]
     },
     "execution_count": 157,
     "metadata": {},
     "output_type": "execute_result"
    },
    {
     "data": {
      "image/png": "[encoded data removed]",
      "text/plain": [
       "<Figure size 576x504 with 2 Axes>"
      ]
     },
     "metadata": {
      "needs_background": "light"
     },
     "output_type": "display_data"
    }
   ],
   "source": [
    "# plot figure of these correlations\n",
    "f, ax = plt.subplots(1,1, figsize=(8, 7))\n",
    "\n",
    "plt.imshow(\n",
    "    data, \n",
    "    cmap='jet', \n",
    ")\n",
    "plt.colorbar()"
   ]
  },
  {
   "cell_type": "code",
   "execution_count": 37,
   "metadata": {
    "scrolled": true
   },
   "outputs": [
    {
     "name": "stdout",
     "output_type": "stream",
     "text": [
      "../../data/92_image/animate/1.jpeg 4.74 : Band Aid n02786058\n",
      "3.33 : spatula n04270147\n",
      "3.13 : panpipe, pandean pipe, syrinx n03884397\n",
      "2.62 : swimming trunks, bathing trunks n04371430\n",
      "1.90 : knee pad n03623198\n",
      "1.90 : Windsor tie n04591157\n",
      "1.67 : conch n01943899\n",
      "1.60 : paintbrush n03876231\n",
      "1.43 : ballpoint, ballpoint pen, ballpen, Biro n02783161\n",
      "1.22 : matchstick n03729826\n",
      "['n02786058', 'n04270147', 'n03884397', 'n04371430', 'n03623198', 'n04591157', 'n01943899', 'n03876231', 'n02783161', 'n03729826']\n",
      "dense_2 2 1 (1, 4096) (4096,) (4096,)\n"
     ]
    }
   ],
   "source": [
    "# Model parmeters and running the model from the loaded weights{\n",
    "\n",
    "image1 = '../../data/92_image/animate/1.jpeg'\n",
    "\n",
    "\n",
    "im1 = preprocess_image_batch([image1],img_size=(256,256), crop_size=(227,227), color_mode=\"rgb\")\n",
    "\n",
    "out = model.predict(im1,batch_size=64)\n",
    "print image1, pprint_output(out[0])\n",
    "\n",
    "# Code snippet to get the activation values and saving information{\n",
    "data1 = np.array([])\n",
    "\n",
    "i = 0\n",
    "result ={}\n",
    "for layer in model.layers:\n",
    "    weights = layer.get_weights()\n",
    "    if len(weights) > 0:\n",
    "        activations = get_activations(model,i,im1)\n",
    "        if result.get(layer.name, None) is None:\n",
    "            result[layer.name] = activations[0]\n",
    "            temp = np.mean(activations[0], axis=0).ravel()\n",
    "            if layer.name == 'dense_2':\n",
    "                print layer.name,len(weights),len(activations), activations[0].shape, np.mean(activations[0], axis=0).shape, temp.shape\n",
    "                data1 = np.append(data1, temp)\n",
    "    i += 1\n",
    "\n",
    "#}"
   ]
  },
  {
   "cell_type": "code",
   "execution_count": 38,
   "metadata": {},
   "outputs": [
    {
     "name": "stdout",
     "output_type": "stream",
     "text": [
      "../../data/92_image/animate/2.jpeg 3.94 : ocarina, sweet potato n03840681\n",
      "2.03 : Band Aid n02786058\n",
      "2.03 : loupe, jeweler's loupe n03692522\n",
      "1.61 : ski mask n04229816\n",
      "1.56 : knee pad n03623198\n",
      "1.30 : mask n03724870\n",
      "1.25 : switch, electric switch, electrical switch n04372370\n",
      "1.15 : face powder n03314780\n",
      "1.14 : black-footed ferret, ferret, Mustela nigripes n02443484\n",
      "1.10 : pick, plectrum, plectron n03929660\n",
      "['n03840681', 'n02786058', 'n03692522', 'n04229816', 'n03623198', 'n03724870', 'n04372370', 'n03314780', 'n02443484', 'n03929660']\n",
      "dense_2 2 1 (1, 4096) (4096,) (4096,)\n"
     ]
    }
   ],
   "source": [
    "# Model parmeters and running the model from the loaded weights{\n",
    "\n",
    "image2 = '../../data/92_image/animate/2.jpeg'\n",
    "\n",
    "\n",
    "im2 = preprocess_image_batch([image2],img_size=(256,256), crop_size=(227,227), color_mode=\"rgb\")\n",
    "\n",
    "out = model.predict(im2,batch_size=64)\n",
    "print image2, pprint_output(out[0])\n",
    "\n",
    "# Code snippet to get the activation values and saving information{\n",
    "data2 = np.array([])\n",
    "\n",
    "i = 0\n",
    "result ={}\n",
    "for layer in model.layers:\n",
    "    weights = layer.get_weights()\n",
    "    if len(weights) > 0:\n",
    "        activations = get_activations(model,i,im2)\n",
    "        if result.get(layer.(0.0689424439775071, 2.2624702146415126e-11)name, None) is None:\n",
    "            result[layer.name] = activations[0]\n",
    "            temp = np.mean(activations[0], axis=0).ravel()\n",
    "            if layer.name == 'dense_2':\n",
    "                print layer.name,len(weights),len(activations), activations[0].shape, np.mean(activations[0], axis=0).shape, temp.shape\n",
    "                data2 = np.append(data2, temp)\n",
    "    i += 1\n",
    "\n",
    "#}"
   ]
  },
  {
   "cell_type": "code",
   "execution_count": 41,
   "metadata": {},
   "outputs": [
    {
     "data": {
      "text/plain": [
       "(3, 4096)"
      ]
     },
     "execution_count": 41,
     "metadata": {},
     "output_type": "execute_result"
    }
   ],
   "source": [
    "X = np.vstack((data1,data2))\n",
    "X.shape"
   ]
  },
  {
   "cell_type": "code",
   "execution_count": 65,
   "metadata": {},
   "outputs": [],
   "source": [
    "#Imports\n",
    "import cPickle as pickle\n",
    "from scipy.io import loadmat"
   ]
  },
  {
   "cell_type": "code",
   "execution_count": null,
   "metadata": {},
   "outputs": [],
   "source": [
    "with open('../../data/pkl/92_animate_test.pkl', 'rb') as f:\n",
    "     animate_data = pickle.load(f)\n",
    "        \n",
    "with open('../../data/pkl/92_animate_test.pkl', 'rb') as f:\n",
    "     inanimate_data = pickle.load(f)"
   ]
  },
  {
   "cell_type": "code",
   "execution_count": 66,
   "metadata": {},
   "outputs": [],
   "source": [
    "mat = loadmat('../../data/supplementalData_hmIT92.mat')\n",
    "monkeyIT = list(mat['RDMs_mIT_hIT_fig1'][0][0][2][0])\n",
    "humanIT = list(mat['RDMs_mIT_hIT_fig1'][0][1][2][0])"
   ]
  },
  {
   "cell_type": "code",
   "execution_count": 158,
   "metadata": {},
   "outputs": [
    {
     "name": "stdout",
     "output_type": "stream",
     "text": [
      "(92, 92)\n",
      "(4186,)\n",
      "(0.1163880740318328, 1.4600168865814578e-29)\n"
     ]
    }
   ],
   "source": [
    "correlation_mat= 1 - np.corrcoef(data)\n",
    "print(correlation_mat.shape)\n",
    "upper = correlation_mat[np.triu_indices(92,1)]\n",
    "print(upper.shape)\n",
    "\n",
    "import scipy.stats as stats\n",
    "tau, p_value = stats.kendalltau(upper, humanIT)\n",
    "print(tau, p_value)\n"
   ]
  },
  {
   "cell_type": "code",
   "execution_count": null,
   "metadata": {},
   "outputs": [],
   "source": [
    "#48-Animate 44-Inanimate\n",
    "\n",
    "count = 0\n",
    "for i in range(1,93,1):\n",
    "    for j in range(i+1,93,1):\n",
    "        count+=1\n",
    "count"
   ]
  },
  {
   "cell_type": "code",
   "execution_count": null,
   "metadata": {},
   "outputs": [],
   "source": [
    "'''\n",
    "conv_1 (0.0689424439775071, 2.2624702146415126e-11)\n",
    "conv_2 (0.06029668217606506, 4.936915320978156e-09)\n",
    "conv_3 (0.07210368977549902, 2.6589616431347935e-12)(0.08234594349601361, 1.3686963826603831e-15)\n",
    "conv_4 (0.08234594349601361, 1.3686963826603831e-15)\n",
    "conv_5 (0.07122689787486422, 4.8599677685919544e-12)\n",
    "dense_1 (0.10675729132952133, 3.9160580474696687e-25)\n",
    "dense_2 (0.12747172831324305, 4.0006531221043654e-35)\n",
    "dense_3 (0.1163880740318328, 1.4600168865814578e-29)\n",
    "'''"
   ]
  },
  {
   "cell_type": "code",
   "execution_count": 162,
   "metadata": {},
   "outputs": [
    {
     "data": {
      "text/plain": [
       "Text(0.5,0,'Individual Layers of Alexnet')"
      ]
     },
     "execution_count": 162,
     "metadata": {},
     "output_type": "execute_result"
    },
    {
     "data": {
      "image/png": "[encoded data removed]",
      "text/plain": [
       "<Figure size 432x288 with 1 Axes>"
      ]
     },
     "metadata": {
      "needs_background": "light"
     },
     "output_type": "display_data"
    }
   ],
   "source": [
    "x = np.arange(7)\n",
    "tau = [0.0689424439775071,0.06029668217606506,0.07210368977549902,0.08234594349601361, 0.07122689787486422,0.10675729132952133,0.12747172831324305]\n",
    "\n",
    "fig, ax = plt.subplots()\n",
    "plt.bar(x, tau)\n",
    "plt.xticks(x, ('layer 1', 'layer 2', 'layer 3', 'layer 4', 'layer 5','layer 6','layer 7'))\n",
    "plt.ylim([0,0.2])\n",
    "plt.ylabel('RDM correlation with hIT (kendall TA)')\n",
    "plt.xlabel('Individual Layers of Alexnet')"
   ]
  },
  {
   "cell_type": "code",
   "execution_count": 154,
   "metadata": {},
   "outputs": [
    {
     "data": {
      "text/plain": [
       "(92, 92)"
      ]
     },
     "execution_count": 154,
     "metadata": {},
     "output_type": "execute_result"
    }
   ],
   "source": []
  },
  {
   "cell_type": "code",
   "execution_count": 161,
   "metadata": {},
   "outputs": [
    {
     "data": {
      "text/plain": [
       "Text(0.5,0,'Individual Layers of Alexnet')"
      ]
     },
     "execution_count": 161,
     "metadata": {},
     "output_type": "execute_result"
    },
    {
     "data": {
      "image/png": "[encoded data removed]",
      "text/plain": [
       "<Figure size 432x288 with 1 Axes>"
      ]
     },
     "metadata": {
      "needs_background": "light"
     },
     "output_type": "display_data"
    }
   ],
   "source": [
    "x = np.arange(8)\n",
    "tau = [0.0689424439775071,0.06029668217606506,0.07210368977549902,0.08234594349601361, 0.07122689787486422,0.10675729132952133,0.12747172831324305,0.1163880740318328]\n",
    "\n",
    "fig, ax = plt.subplots()\n",
    "plt.bar(x, tau)\n",
    "plt.xticks(x, ('layer 1', 'layer 2', 'layer 3', 'layer 4', 'layer 5','layer 6','layer 7', 'layer 8'))\n",
    "plt.ylim([0,0.2])\n",
    "plt.ylabel('RDM correlation with hIT (kendall TA)')\n",
    "plt.xlabel('Individual Layers of Alexnet')"
   ]
  },
  {
   "cell_type": "code",
   "execution_count": null,
   "metadata": {},
   "outputs": [],
   "source": []
  }
 ],
 "metadata": {
  "kernelspec": {
   "display_name": "Python 2",
   "language": "python",
   "name": "python2"
  },
  "language_info": {
   "codemirror_mode": {
    "name": "ipython",
    "version": 2
   },
   "file_extension": ".py",
   "mimetype": "text/x-python",
   "name": "python",
   "nbconvert_exporter": "python",
   "pygments_lexer": "ipython2",
   "version": "2.7.15"
  }
 },
 "nbformat": 4,
 "nbformat_minor": 2
}
