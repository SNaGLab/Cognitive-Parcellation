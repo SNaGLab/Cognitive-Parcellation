{
 "cells": [
  {
   "cell_type": "code",
   "execution_count": 1,
   "metadata": {},
   "outputs": [],
   "source": [
    "import numpy as np\n",
    "import h5py"
   ]
  },
  {
   "cell_type": "code",
   "execution_count": 2,
   "metadata": {},
   "outputs": [],
   "source": [
    "path = '../../data/weights/alexnet_weights.h5'"
   ]
  },
  {
   "cell_type": "code",
   "execution_count": 4,
   "metadata": {},
   "outputs": [
    {
     "name": "stdout",
     "output_type": "stream",
     "text": [
      "conv_1_W conv_1_b\n"
     ]
    }
   ],
   "source": [
    "hf = h5py.File(path, 'r')"
   ]
  },
  {
   "cell_type": "code",
   "execution_count": null,
   "metadata": {},
   "outputs": [],
   "source": [
    "'''\n",
    "conv_1 2 1 (199, 96, 55, 55) (96, 55, 55) (290400,)\n",
    "conv_2_1 2 1 (199, 128, 27, 27) (128, 27, 27) (93312,)\n",
    "conv_2_2 2 1 (199, 128, 27, 27) (128, 27, 27) (93312,)\n",
    "conv_3 2 1 (199, 384, 13, 13) (384, 13, 13) (64896,)\n",
    "conv_4_1 2 1 (199, 192, 13, 13) (192, 13, 13) (32448,)\n",
    "conv_4_2 2 1 (199, 192, 13, 13) (192, 13, 13) (32448,)\n",
    "conv_5_1 2 1 (199, 128, 13, 13) (128, 13, 13) (21632,)\n",
    "conv_5_2 2 1 (199, 128, 13, 13) (128, 13, 13) (21632,)\n",
    "dense_1 2 1 (199, 4096) (4096,) (4096,)\n",
    "dense_2 2 1 (199, 4096) (4096,) (4096,)\n",
    "dense_3 2 1 (199, 1000) (1000,) (1000,)\n",
    "(659272,)\n",
    "'''"
   ]
  },
  {
   "cell_type": "code",
   "execution_count": 5,
   "metadata": {},
   "outputs": [
    {
     "data": {
      "text/plain": [
       "[u'conv_1',\n",
       " u'conv_2',\n",
       " u'conv_2_1',\n",
       " u'conv_2_2',\n",
       " u'conv_3',\n",
       " u'conv_4',\n",
       " u'conv_4_1',\n",
       " u'conv_4_2',\n",
       " u'conv_5',\n",
       " u'conv_5_1',\n",
       " u'conv_5_2',\n",
       " u'convpool_1',\n",
       " u'convpool_5',\n",
       " u'dense_1',\n",
       " u'dense_2',\n",
       " u'dense_3',\n",
       " u'dropout_1',\n",
       " u'dropout_2',\n",
       " u'flatten',\n",
       " u'input_1',\n",
       " u'lambda_1',\n",
       " u'lambda_2',\n",
       " u'lambda_3',\n",
       " u'lambda_4',\n",
       " u'lambda_5',\n",
       " u'lambda_6',\n",
       " u'lambda_7',\n",
       " u'maxpooling2d_1',\n",
       " u'maxpooling2d_2',\n",
       " u'softmax',\n",
       " u'zeropadding2d_1',\n",
       " u'zeropadding2d_2',\n",
       " u'zeropadding2d_3',\n",
       " u'zeropadding2d_4']"
      ]
     },
     "execution_count": 5,
     "metadata": {},
     "output_type": "execute_result"
    }
   ],
   "source": [
    "list(hf.keys())"
   ]
  },
  {
   "cell_type": "code",
   "execution_count": 6,
   "metadata": {},
   "outputs": [
    {
     "name": "stdout",
     "output_type": "stream",
     "text": [
      "conv_1_W conv_1_b\n"
     ]
    }
   ],
   "source": [
    "n1 = hf.get(u'conv_1')\n",
    "n1 = np.array(n1)\n",
    "print n1[0],n1[1] #conv_1_W conv_1_b"
   ]
  },
  {
   "cell_type": "code",
   "execution_count": 14,
   "metadata": {},
   "outputs": [
    {
     "data": {
      "text/plain": [
       "(96, 3, 11, 11)"
      ]
     },
     "execution_count": 14,
     "metadata": {},
     "output_type": "execute_result"
    }
   ],
   "source": [
    "n1 = hf.get(u'conv_1')\n",
    "data = list(hf[u'conv_1'][u'conv_1_W'])\n",
    "np.shape(data)"
   ]
  },
  {
   "cell_type": "code",
   "execution_count": 18,
   "metadata": {},
   "outputs": [
    {
     "data": {
      "text/plain": [
       "(1, 659272)"
      ]
     },
     "execution_count": 18,
     "metadata": {},
     "output_type": "execute_result"
    }
   ],
   "source": [
    "import pickle\n",
    "with open('../../data/pkl/data_alex_animate.pkl') as f:\n",
    "    a = pickle.load(f)\n",
    "np.shape(a)"
   ]
  },
  {
   "cell_type": "code",
   "execution_count": null,
   "metadata": {},
   "outputs": [],
   "source": [
    "hf.close()"
   ]
  },
  {
   "cell_type": "code",
   "execution_count": null,
   "metadata": {},
   "outputs": [],
   "source": []
  }
 ],
 "metadata": {
  "kernelspec": {
   "display_name": "Python 2",
   "language": "python",
   "name": "python2"
  },
  "language_info": {
   "codemirror_mode": {
    "name": "ipython",
    "version": 2
   },
   "file_extension": ".py",
   "mimetype": "text/x-python",
   "name": "python",
   "nbconvert_exporter": "python",
   "pygments_lexer": "ipython2",
   "version": "2.7.15"
  }
 },
 "nbformat": 4,
 "nbformat_minor": 2
}
